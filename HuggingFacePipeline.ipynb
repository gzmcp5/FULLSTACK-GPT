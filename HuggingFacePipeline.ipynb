{
 "cells": [
  {
   "cell_type": "code",
   "execution_count": 5,
   "id": "e0c3e0a1",
   "metadata": {},
   "outputs": [
    {
     "name": "stderr",
     "output_type": "stream",
     "text": [
      "Device set to use cuda:0\n"
     ]
    },
    {
     "name": "stdout",
     "output_type": "stream",
     "text": [
      "openai-community/gpt2\n",
      "==========================\n",
      "How many planets are there? How many stars are there?\n",
      "\n",
      "It's like there are 10,000,000 planets in the universe, and every planet is a million times more massive than that.\n",
      "\n",
      "So, if you had a million million planets, and there are millions of planets there, that's only one big planet.\n",
      "\n",
      "So we're talking about a planet that's 10 times more massive than all of the other planets.\n",
      "\n",
      "And that's an enormous amount of energy.\n",
      "\n",
      "So, it\n"
     ]
    }
   ],
   "source": [
    "from langchain_huggingface.llms import HuggingFacePipeline\n",
    "from transformers import AutoModelForCausalLM, AutoTokenizer, pipeline\n",
    "\n",
    "# from transformers.utils.logging import disable_progress_bar\n",
    "# disable_progress_bar()\n",
    "\n",
    "# model_id = \"gpt2\"\n",
    "model_id = \"openai-community/gpt2\"\n",
    "# model_id = \"meta-llama/Llama-2-7b-chat-hf\"\n",
    "tokenizer = AutoTokenizer.from_pretrained(model_id)\n",
    "model = AutoModelForCausalLM.from_pretrained(model_id, local_files_only=True)\n",
    "print(model.config._name_or_path)\n",
    "\n",
    "# local_path = \"./model\"\n",
    "# tokenizer = AutoTokenizer.from_pretrained(local_path)\n",
    "# model = AutoModelForCausalLM.from_pretrained(local_path)\n",
    "\n",
    "# # pad 토큰 지정 (gpt2의 경우 pad 토큰 없음 → eos 토큰 사용)\n",
    "if tokenizer.pad_token is None:\n",
    "    tokenizer.pad_token = tokenizer.eos_token  # '<|endoftext|>'\n",
    "    tokenizer.pad_token_id = tokenizer.eos_token_id\n",
    "\n",
    "pipe = pipeline(\n",
    "    \"text-generation\",\n",
    "    model=model,\n",
    "    tokenizer=tokenizer,\n",
    "    max_new_tokens=100,\n",
    "    pad_token_id=tokenizer.pad_token_id\n",
    ")\n",
    "hf_llm = HuggingFacePipeline(pipeline=pipe)\n",
    "\n",
    "output = hf_llm.invoke(\"How many planets are there?\")\n",
    "print('==========================')\n",
    "print(output)"
   ]
  }
 ],
 "metadata": {
  "kernelspec": {
   "display_name": ".venv",
   "language": "python",
   "name": "python3"
  },
  "language_info": {
   "codemirror_mode": {
    "name": "ipython",
    "version": 3
   },
   "file_extension": ".py",
   "mimetype": "text/x-python",
   "name": "python",
   "nbconvert_exporter": "python",
   "pygments_lexer": "ipython3",
   "version": "3.11.12"
  }
 },
 "nbformat": 4,
 "nbformat_minor": 5
}
